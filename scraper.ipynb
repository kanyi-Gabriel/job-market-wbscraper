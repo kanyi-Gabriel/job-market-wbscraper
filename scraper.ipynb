{
 "cells": [
  {
   "cell_type": "code",
   "execution_count": 3,
   "id": "a9c6ea0b-5aa3-4626-b3c6-116d518f9574",
   "metadata": {},
   "outputs": [],
   "source": [
    "from src.scraper import scrape_jobs\n",
    "from datetime import date"
   ]
  },
  {
   "cell_type": "code",
   "execution_count": 2,
   "id": "ce9de42a-e315-4aa2-a46a-2cff1be709e3",
   "metadata": {},
   "outputs": [
    {
     "name": "stdout",
     "output_type": "stream",
     "text": [
      "✅ Scraped 50 jobs on 2025-09-13 → saved to data/remoteok_jobs_2025-09-13.csv\n"
     ]
    }
   ],
   "source": [
    "# scraper.py  (at the root)\n",
    "\n",
    "from src.scraper import scrape_jobs\n",
    "from datetime import date\n",
    "\n",
    "# Run scraper\n",
    "df = scrape_jobs()\n",
    "\n",
    "# Save with today's date\n",
    "today = date.today().isoformat()\n",
    "output_file = f\"data/remoteok_jobs_{today}.csv\"\n",
    "df.to_csv(output_file, index=False)\n",
    "\n",
    "print(f\"Scraped {len(df)} jobs on {today} → saved to {output_file}\")\n"
   ]
  },
  {
   "cell_type": "code",
   "execution_count": null,
   "id": "d4e4ca23-ef7d-4ff5-aec0-19be92c195ce",
   "metadata": {},
   "outputs": [],
   "source": []
  }
 ],
 "metadata": {
  "kernelspec": {
   "display_name": "Python 3 (ipykernel)",
   "language": "python",
   "name": "python3"
  },
  "language_info": {
   "codemirror_mode": {
    "name": "ipython",
    "version": 3
   },
   "file_extension": ".py",
   "mimetype": "text/x-python",
   "name": "python",
   "nbconvert_exporter": "python",
   "pygments_lexer": "ipython3",
   "version": "3.13.5"
  }
 },
 "nbformat": 4,
 "nbformat_minor": 5
}
